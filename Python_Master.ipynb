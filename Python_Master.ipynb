{
  "cells": [
    {
      "cell_type": "markdown",
      "metadata": {
        "id": "view-in-github",
        "colab_type": "text"
      },
      "source": [
        "<a href=\"https://colab.research.google.com/github/SubaRanjan23/devopsIQ/blob/master/Python_Master.ipynb\" target=\"_parent\"><img src=\"https://colab.research.google.com/assets/colab-badge.svg\" alt=\"Open In Colab\"/></a>"
      ]
    },
    {
      "cell_type": "markdown",
      "id": "9cf99ccf",
      "metadata": {
        "id": "9cf99ccf"
      },
      "source": [
        "## Introduction to Python"
      ]
    },
    {
      "cell_type": "markdown",
      "id": "35e04220",
      "metadata": {
        "id": "35e04220"
      },
      "source": [
        "#### What is Python?"
      ]
    },
    {
      "cell_type": "markdown",
      "id": "0be12822",
      "metadata": {
        "id": "0be12822"
      },
      "source": [
        "Python is a high-level, interpreted programming language known for its simplicity and readability. It is widely used in various domains such as web development, data science, and automation."
      ]
    },
    {
      "cell_type": "markdown",
      "id": "bc5a75cb",
      "metadata": {
        "id": "bc5a75cb"
      },
      "source": [
        "#### What are the advantages of Python programming language?"
      ]
    },
    {
      "cell_type": "markdown",
      "id": "262cbc10",
      "metadata": {
        "id": "262cbc10"
      },
      "source": [
        "- **Libraries**: NumPy, pandas, and matplotlib enable efficient data manipulation, analysis, and visualization.\n",
        "- **Machine Learning**: Scikit-learn, TensorFlow, and PyTorch provide robust tools for machine learning and model building.\n",
        "- **Community Support**: A large, active community contributes new libraries, shared knowledge, and support.\n",
        "- **Integration**: Easily integrates with other languages and tools for seamless data science workflows.\n",
        "- **Flexibility**: Handles tasks from data cleaning to model deployment within the same environment.\n",
        "- **Scalability**: Works well with both small and large datasets for projects of any size.\n",
        "- **Ease of Learning**: Simple, readable syntax is beginner-friendly yet powerful for experienced users."
      ]
    },
    {
      "cell_type": "markdown",
      "id": "57028bbd",
      "metadata": {
        "id": "57028bbd"
      },
      "source": [
        "## Data Types in Python"
      ]
    },
    {
      "cell_type": "markdown",
      "id": "0d43d221",
      "metadata": {
        "id": "0d43d221"
      },
      "source": [
        "#### 1. **String to Integer**"
      ]
    },
    {
      "cell_type": "code",
      "execution_count": null,
      "id": "2717e245",
      "metadata": {
        "id": "2717e245"
      },
      "outputs": [],
      "source": [
        "st = \"123\""
      ]
    },
    {
      "cell_type": "code",
      "execution_count": null,
      "id": "c3c34302",
      "metadata": {
        "colab": {
          "base_uri": "https://localhost:8080/"
        },
        "id": "c3c34302",
        "outputId": "b2ce582a-6348-4fd5-da18-c986804b69f2"
      },
      "outputs": [
        {
          "output_type": "stream",
          "name": "stdout",
          "text": [
            "123\n"
          ]
        },
        {
          "output_type": "execute_result",
          "data": {
            "text/plain": [
              "int"
            ]
          },
          "metadata": {},
          "execution_count": 5
        }
      ],
      "source": [
        "x = int(st)\n",
        "print(x)\n",
        "type(x)"
      ]
    },
    {
      "cell_type": "markdown",
      "id": "4d2a5287",
      "metadata": {
        "id": "4d2a5287"
      },
      "source": [
        "#### 2. **Integer to String**"
      ]
    },
    {
      "cell_type": "code",
      "execution_count": null,
      "id": "e100b781",
      "metadata": {
        "id": "e100b781"
      },
      "outputs": [],
      "source": [
        "int_value = 123"
      ]
    },
    {
      "cell_type": "code",
      "execution_count": null,
      "id": "b21028a8",
      "metadata": {
        "colab": {
          "base_uri": "https://localhost:8080/"
        },
        "id": "b21028a8",
        "outputId": "096bfa42-8630-489a-f529-0612ca5dbc9a"
      },
      "outputs": [
        {
          "output_type": "stream",
          "name": "stdout",
          "text": [
            "123\n"
          ]
        },
        {
          "output_type": "execute_result",
          "data": {
            "text/plain": [
              "str"
            ]
          },
          "metadata": {},
          "execution_count": 7
        }
      ],
      "source": [
        "s = str(int_value)\n",
        "print(s)\n",
        "type(s)"
      ]
    },
    {
      "cell_type": "markdown",
      "id": "41d551ee",
      "metadata": {
        "id": "41d551ee"
      },
      "source": [
        "#### 3. **String to Float**"
      ]
    },
    {
      "cell_type": "code",
      "execution_count": null,
      "id": "40b27066",
      "metadata": {
        "id": "40b27066"
      },
      "outputs": [],
      "source": [
        "str_value = \"123.45\""
      ]
    },
    {
      "cell_type": "code",
      "execution_count": null,
      "id": "f2e50d70",
      "metadata": {
        "id": "f2e50d70",
        "colab": {
          "base_uri": "https://localhost:8080/"
        },
        "outputId": "22027ba2-b1e6-4720-eedd-e032917f65b2"
      },
      "outputs": [
        {
          "output_type": "stream",
          "name": "stdout",
          "text": [
            "123.0\n"
          ]
        },
        {
          "output_type": "execute_result",
          "data": {
            "text/plain": [
              "float"
            ]
          },
          "metadata": {},
          "execution_count": 12
        }
      ],
      "source": [
        "float_value = float(str_value)\n",
        "print(float_value)\n",
        "type(float_value)"
      ]
    },
    {
      "cell_type": "code",
      "source": [],
      "metadata": {
        "id": "PiIuse2kDayC"
      },
      "id": "PiIuse2kDayC",
      "execution_count": null,
      "outputs": []
    },
    {
      "cell_type": "markdown",
      "id": "53d83b28",
      "metadata": {
        "id": "53d83b28"
      },
      "source": [
        "#### 4. **Float to String**"
      ]
    },
    {
      "cell_type": "code",
      "execution_count": null,
      "id": "23bc60d6",
      "metadata": {
        "id": "23bc60d6"
      },
      "outputs": [],
      "source": [
        "float_value = 123.45"
      ]
    },
    {
      "cell_type": "code",
      "execution_count": null,
      "id": "2d0b19b1",
      "metadata": {
        "id": "2d0b19b1",
        "colab": {
          "base_uri": "https://localhost:8080/"
        },
        "outputId": "86847b9f-ef9f-4585-859c-86be966cbcc2"
      },
      "outputs": [
        {
          "output_type": "stream",
          "name": "stdout",
          "text": [
            "123.45\n"
          ]
        },
        {
          "output_type": "execute_result",
          "data": {
            "text/plain": [
              "str"
            ]
          },
          "metadata": {},
          "execution_count": 16
        }
      ],
      "source": [
        "str_value = str(float_value)\n",
        "print(str_value)\n",
        "type(str_value)"
      ]
    },
    {
      "cell_type": "markdown",
      "id": "cf702440",
      "metadata": {
        "id": "cf702440"
      },
      "source": [
        "#### 5. **Integer to Float**"
      ]
    },
    {
      "cell_type": "code",
      "execution_count": null,
      "id": "f30db774",
      "metadata": {
        "id": "f30db774"
      },
      "outputs": [],
      "source": [
        "int_value = 123"
      ]
    },
    {
      "cell_type": "code",
      "execution_count": null,
      "id": "d3e2b462",
      "metadata": {
        "id": "d3e2b462"
      },
      "outputs": [],
      "source": []
    },
    {
      "cell_type": "markdown",
      "id": "b431f203",
      "metadata": {
        "id": "b431f203"
      },
      "source": [
        "#### 6. **Float to Integer**"
      ]
    },
    {
      "cell_type": "code",
      "execution_count": null,
      "id": "5eb7db29",
      "metadata": {
        "id": "5eb7db29"
      },
      "outputs": [],
      "source": [
        "float_value = 123.45"
      ]
    },
    {
      "cell_type": "code",
      "execution_count": null,
      "id": "3b0391f3",
      "metadata": {
        "id": "3b0391f3"
      },
      "outputs": [],
      "source": []
    },
    {
      "cell_type": "markdown",
      "id": "eb978c95",
      "metadata": {
        "id": "eb978c95"
      },
      "source": [
        "#### 7. **String to List**"
      ]
    },
    {
      "cell_type": "code",
      "execution_count": null,
      "id": "d33608ee",
      "metadata": {
        "id": "d33608ee"
      },
      "outputs": [],
      "source": [
        "str_value = \"hello\""
      ]
    },
    {
      "cell_type": "code",
      "execution_count": null,
      "id": "85eb3602",
      "metadata": {
        "colab": {
          "base_uri": "https://localhost:8080/"
        },
        "id": "85eb3602",
        "outputId": "4aedf7af-3bb9-4ffa-91eb-7ec25d7009c6"
      },
      "outputs": [
        {
          "output_type": "execute_result",
          "data": {
            "text/plain": [
              "['h', 'e', 'l', 'l', 'o']"
            ]
          },
          "metadata": {},
          "execution_count": 9
        }
      ],
      "source": [
        "lst = list(str_value)\n",
        "lst"
      ]
    },
    {
      "cell_type": "markdown",
      "id": "53455f29",
      "metadata": {
        "id": "53455f29"
      },
      "source": [
        "#### 8. **Integer to Boolean**"
      ]
    },
    {
      "cell_type": "code",
      "execution_count": null,
      "id": "13ac8f2d",
      "metadata": {
        "id": "13ac8f2d"
      },
      "outputs": [],
      "source": [
        "integer = 5"
      ]
    },
    {
      "cell_type": "code",
      "execution_count": null,
      "id": "7e6f57f1",
      "metadata": {
        "id": "7e6f57f1"
      },
      "outputs": [],
      "source": []
    },
    {
      "cell_type": "code",
      "execution_count": null,
      "id": "e112ed69",
      "metadata": {
        "id": "e112ed69"
      },
      "outputs": [],
      "source": [
        "integer = 0"
      ]
    },
    {
      "cell_type": "code",
      "execution_count": null,
      "id": "1f08aa62",
      "metadata": {
        "id": "1f08aa62"
      },
      "outputs": [],
      "source": []
    },
    {
      "cell_type": "markdown",
      "id": "a68cd336",
      "metadata": {
        "id": "a68cd336"
      },
      "source": [
        "Poll Q. What will be the output of bool(None)?"
      ]
    },
    {
      "cell_type": "markdown",
      "id": "f7ba33e8",
      "metadata": {
        "id": "f7ba33e8"
      },
      "source": [
        "## 2. Data Structures"
      ]
    },
    {
      "cell_type": "markdown",
      "id": "d35ae89e",
      "metadata": {
        "id": "d35ae89e"
      },
      "source": [
        "#### Example of a List\n",
        "my_list = [1, 2, 3, 4, 5]\n",
        "\n",
        "#### Example of a Tuple\n",
        "my_tuple = (1, 2, 3, 4, 5)\n",
        "\n",
        "#### Example of a Set\n",
        "my_set = {1, 2, 3, 4, 5}\n",
        "\n",
        "#### Example of a Dictionary\n",
        "my_dict = {'a': 1, 'b': 2, 'c': 3, 'd': 4, 'e': 5}\n",
        "\n"
      ]
    },
    {
      "cell_type": "markdown",
      "id": "a9e45cee",
      "metadata": {
        "id": "a9e45cee"
      },
      "source": [
        "### Comparison of data types"
      ]
    },
    {
      "cell_type": "markdown",
      "id": "caedd705",
      "metadata": {
        "id": "caedd705"
      },
      "source": [
        "| Parameters     | List                                                                          | Tuple                                                                           | Set                                                     | Dictionary                                                             |\n",
        "|----------------|-------------------------------------------------------------------------------|---------------------------------------------------------------------------------|---------------------------------------------------------|------------------------------------------------------------------------|\n",
        "| Definition     | A list is an ordered, mutable collection of elements.                        | A tuple is an ordered, immutable collection of elements.                        | A set is an unordered collection of unique elements.     | A dictionary is an unordered collection of key-value pairs.             |\n",
        "| Syntax         | Syntax includes square brackets [ , ] with ‘,’ separated data.               | Syntax includes curved brackets ( , ) with ‘,’ separated data.                  | Syntax includes curly brackets { , } with ‘,’ separated data. | Syntax includes curly brackets { , } with ‘,’ separated key-value data. |\n",
        "| Creation       | A list can be created using the list() function or simple assignment to [].   | Tuple can be created using the tuple() function.                                | A set can be created using the set() function.            | A dictionary can be created using the dict() function.                  |\n",
        "| Empty Data     | An empty list can be created by l = [].                                       | An empty tuple can be created by t = ().                                        | An empty set can be created by s = set().                | An empty dictionary can be created by {}.                               |\n",
        "| Order          | It is an ordered collection of data.                                          | It is also an ordered collection of data.                                       | It is an unordered collection of data.                   | Ordered collection in Python version 3.7, unordered in Python Version 3.6. |\n",
        "| Duplicate Data | Duplicate data entry is allowed in a List.                                    | Duplicate data entry is allowed in a Tuple.                                     | All elements are unique in a Set.                        | Keys are unique, but two different keys CAN have the same value.        |\n",
        "| Indexing       | Has integer-based indexing that starts from ‘0’.                              | Also has integer-based indexing that starts from ‘0’.                           | Does NOT have an index-based mechanism.                  | Has a Key-based indexing i.e., keys identify the value.                 |\n",
        "| Addition       | New items can be added using the append() method.                             | Being immutable, new data cannot be added to it.                                | The add() method adds an element to a set.               | update() method updates specific key-value pair.                        |\n",
        "| Deletion       | Pop() method allows deleting an element.                                      | Being immutable, no data can be popped/deleted.                                 | Elements can be randomly deleted using pop().            | pop(key) removes the specified key along with its value.                |\n",
        "| Sorting        | sort() method sorts the elements.                                             | Immutable, so sorting method is not applicable.                                 | Unordered, so sorting is not advised.                    | Keys are sorted by using the sorted() method.                           |\n",
        "| Search         | index() returns index of first occurrence.                                    | index() returns index of first occurrence.                                      | Unordered, so searching is not applicable.               | get(key) returns value against specified key.                           |\n",
        "| Reversing      | reverse() method reverses the list.                                           | Immutable, so reverse method is not applicable.                                 | Unordered, so reverse is not advised.                    | No integer-based indexing, so no reversal.                              |\n",
        "| Count          | count() method returns occurrence count.                                      | count() method returns occurrence count.                                        | count() not defined for sets.                            | count() not defined for dictionaries.                                   |\n"
      ]
    },
    {
      "cell_type": "markdown",
      "id": "4d023782",
      "metadata": {
        "id": "4d023782"
      },
      "source": [
        "### Operations on a List"
      ]
    },
    {
      "cell_type": "code",
      "execution_count": null,
      "id": "323cb401",
      "metadata": {
        "id": "323cb401"
      },
      "outputs": [],
      "source": [
        "my_list = [6,9,6,5,3,4,7]"
      ]
    },
    {
      "cell_type": "code",
      "execution_count": null,
      "id": "d30b87ab",
      "metadata": {
        "id": "d30b87ab"
      },
      "outputs": [],
      "source": [
        "#Indexing"
      ]
    },
    {
      "cell_type": "code",
      "execution_count": null,
      "id": "a3cb0dd7",
      "metadata": {
        "colab": {
          "base_uri": "https://localhost:8080/"
        },
        "id": "a3cb0dd7",
        "outputId": "69097520-2d19-4c9e-ddef-0ec9afb4cc0a"
      },
      "outputs": [
        {
          "output_type": "execute_result",
          "data": {
            "text/plain": [
              "6"
            ]
          },
          "metadata": {},
          "execution_count": 16
        }
      ],
      "source": [
        "my_list[2]"
      ]
    },
    {
      "cell_type": "code",
      "execution_count": null,
      "id": "db1d1e70",
      "metadata": {
        "id": "db1d1e70"
      },
      "outputs": [],
      "source": [
        "#Slicing"
      ]
    },
    {
      "cell_type": "code",
      "execution_count": null,
      "id": "a23fdf0f",
      "metadata": {
        "colab": {
          "base_uri": "https://localhost:8080/"
        },
        "id": "a23fdf0f",
        "outputId": "f40e2364-79fa-4b9a-d790-ed98118fe73a"
      },
      "outputs": [
        {
          "output_type": "execute_result",
          "data": {
            "text/plain": [
              "[9, 6]"
            ]
          },
          "metadata": {},
          "execution_count": 17
        }
      ],
      "source": [
        "my_list[1:3]"
      ]
    },
    {
      "cell_type": "code",
      "execution_count": null,
      "id": "16dc3889",
      "metadata": {
        "id": "16dc3889"
      },
      "outputs": [],
      "source": [
        "#Appending"
      ]
    },
    {
      "cell_type": "code",
      "execution_count": null,
      "id": "51638cb1",
      "metadata": {
        "colab": {
          "base_uri": "https://localhost:8080/"
        },
        "id": "51638cb1",
        "outputId": "fce1bc3f-220e-4f3a-be9c-588ccd0c337b"
      },
      "outputs": [
        {
          "output_type": "execute_result",
          "data": {
            "text/plain": [
              "[6, 9, 6, 5, 3, 4, 7, 1004]"
            ]
          },
          "metadata": {},
          "execution_count": 18
        }
      ],
      "source": [
        "my_list.append(1004)\n",
        "my_list"
      ]
    },
    {
      "cell_type": "code",
      "execution_count": null,
      "id": "cdd6e301",
      "metadata": {
        "id": "cdd6e301"
      },
      "outputs": [],
      "source": [
        "#Inserting"
      ]
    },
    {
      "cell_type": "code",
      "execution_count": null,
      "id": "c42f3338",
      "metadata": {
        "id": "c42f3338",
        "colab": {
          "base_uri": "https://localhost:8080/"
        },
        "outputId": "a76cf518-0d8a-4f05-b7cd-23d591600a1f"
      },
      "outputs": [
        {
          "output_type": "execute_result",
          "data": {
            "text/plain": [
              "[6, 9, 1003, 6, 5, 3, 4, 7, 1004]"
            ]
          },
          "metadata": {},
          "execution_count": 19
        }
      ],
      "source": [
        "my_list.insert(2,1003)\n",
        "my_list"
      ]
    },
    {
      "cell_type": "code",
      "execution_count": null,
      "id": "6170254e",
      "metadata": {
        "id": "6170254e"
      },
      "outputs": [],
      "source": [
        "#Extending"
      ]
    },
    {
      "cell_type": "code",
      "execution_count": null,
      "id": "f8626752",
      "metadata": {
        "id": "f8626752",
        "colab": {
          "base_uri": "https://localhost:8080/"
        },
        "outputId": "f9b4b5ba-e5e2-4b34-ac57-e82ea51026b7"
      },
      "outputs": [
        {
          "output_type": "execute_result",
          "data": {
            "text/plain": [
              "[6, 9, 1003, 6, 5, 3, 4, 7, 1004, 1, 2, 3, 4, 1005, 1006]"
            ]
          },
          "metadata": {},
          "execution_count": 20
        }
      ],
      "source": [
        "my_list.extend([1,2,3,4,1005,1006])\n",
        "my_list"
      ]
    },
    {
      "cell_type": "code",
      "execution_count": null,
      "id": "44fb2bb7",
      "metadata": {
        "id": "44fb2bb7"
      },
      "outputs": [],
      "source": [
        "# Finding element's index number"
      ]
    },
    {
      "cell_type": "code",
      "execution_count": null,
      "id": "4a7942be",
      "metadata": {
        "id": "4a7942be",
        "colab": {
          "base_uri": "https://localhost:8080/"
        },
        "outputId": "8b2b57ea-ad77-491f-b3c1-2d90dd0c9434"
      },
      "outputs": [
        {
          "output_type": "execute_result",
          "data": {
            "text/plain": [
              "8"
            ]
          },
          "metadata": {},
          "execution_count": 24
        }
      ],
      "source": [
        "my_list.index(1004)"
      ]
    },
    {
      "cell_type": "code",
      "execution_count": null,
      "id": "71761bbe",
      "metadata": {
        "id": "71761bbe"
      },
      "outputs": [],
      "source": [
        "# Reversing"
      ]
    },
    {
      "cell_type": "code",
      "execution_count": null,
      "id": "849784ef",
      "metadata": {
        "id": "849784ef",
        "colab": {
          "base_uri": "https://localhost:8080/"
        },
        "outputId": "2a815798-4f7f-4772-c690-678cd5fe1000"
      },
      "outputs": [
        {
          "output_type": "execute_result",
          "data": {
            "text/plain": [
              "[1006, 1005, 4, 3, 2, 1, 1004, 7, 4, 3, 5, 6, 1003, 9, 6]"
            ]
          },
          "metadata": {},
          "execution_count": 25
        }
      ],
      "source": [
        "my_list.reverse()\n",
        "my_list"
      ]
    },
    {
      "cell_type": "code",
      "execution_count": null,
      "id": "004ff579",
      "metadata": {
        "id": "004ff579"
      },
      "outputs": [],
      "source": [
        "# Sorting"
      ]
    },
    {
      "cell_type": "code",
      "execution_count": null,
      "id": "77e20103",
      "metadata": {
        "id": "77e20103",
        "colab": {
          "base_uri": "https://localhost:8080/"
        },
        "outputId": "9e191a1f-04ac-4c03-9b2a-9ebfabff44ff"
      },
      "outputs": [
        {
          "output_type": "execute_result",
          "data": {
            "text/plain": [
              "[1, 2, 3, 3, 4, 4, 5, 6, 6, 7, 9, 1003, 1004, 1005, 1006]"
            ]
          },
          "metadata": {},
          "execution_count": 26
        }
      ],
      "source": [
        "my_list.sort()\n",
        "my_list"
      ]
    },
    {
      "cell_type": "code",
      "source": [
        "my_list.pop(1)\n",
        "my_list"
      ],
      "metadata": {
        "colab": {
          "base_uri": "https://localhost:8080/"
        },
        "id": "fambhdMmfUdu",
        "outputId": "b9099750-301d-4fcb-d771-368c96494874"
      },
      "id": "fambhdMmfUdu",
      "execution_count": null,
      "outputs": [
        {
          "output_type": "execute_result",
          "data": {
            "text/plain": [
              "[1, 3, 4]"
            ]
          },
          "metadata": {},
          "execution_count": 32
        }
      ]
    },
    {
      "cell_type": "markdown",
      "id": "c978d1d3",
      "metadata": {
        "id": "c978d1d3"
      },
      "source": [
        "### Frequently asked interview questions"
      ]
    },
    {
      "cell_type": "markdown",
      "id": "0f2907a1",
      "metadata": {
        "id": "0f2907a1"
      },
      "source": [
        "\n",
        "\n",
        "\n",
        "**Question 1**: Given the list `numbers = [1, 2, 3, 4, 5, 6]`, write a Python code that removes the third element, appends the number `7` to the list, and then reverses the list.\n"
      ]
    },
    {
      "cell_type": "code",
      "source": [
        "my_list = [1,2,3,4,5,6]\n",
        "\n",
        "my_list.pop(2)       # you can alternatively use my_list.remove(2) or del my_list[2]\n",
        "my_list.append(7)\n",
        "my_list.reverse()\n",
        "my_list"
      ],
      "metadata": {
        "colab": {
          "base_uri": "https://localhost:8080/"
        },
        "id": "psjvxlcLd8WI",
        "outputId": "2fd8eefc-8042-4f50-f6db-d354971cbe91"
      },
      "id": "psjvxlcLd8WI",
      "execution_count": null,
      "outputs": [
        {
          "output_type": "execute_result",
          "data": {
            "text/plain": [
              "[7, 6, 5, 4, 2, 1]"
            ]
          },
          "metadata": {},
          "execution_count": 34
        }
      ]
    },
    {
      "cell_type": "markdown",
      "id": "25ba7d33",
      "metadata": {
        "id": "25ba7d33"
      },
      "source": [
        "\n",
        "\n",
        " **Question 2**: Given the list `words = [\"apple\", \"banana\", \"cherry\", \"date\"]`, write a Python code that inserts the word \"blueberry\" at the second position, removes the last word, and then returns the list sorted in alphabetical order."
      ]
    },
    {
      "cell_type": "code",
      "execution_count": null,
      "id": "98adfd7c",
      "metadata": {
        "colab": {
          "base_uri": "https://localhost:8080/"
        },
        "id": "98adfd7c",
        "outputId": "02e53c8d-a427-44a7-8042-09de319138b5"
      },
      "outputs": [
        {
          "output_type": "execute_result",
          "data": {
            "text/plain": [
              "['apple', 'banana', 'blueberry', 'cherry']"
            ]
          },
          "metadata": {},
          "execution_count": 35
        }
      ],
      "source": [
        "words = [\"apple\", \"banana\", \"cherry\", \"date\"]\n",
        "\n",
        "words.insert(1, \"blueberry\")\n",
        "words.pop()\n",
        "words.sort()\n",
        "\n",
        "words"
      ]
    },
    {
      "cell_type": "markdown",
      "id": "8b6d9ca2",
      "metadata": {
        "id": "8b6d9ca2"
      },
      "source": [
        "### Operations specific to Tuples"
      ]
    },
    {
      "cell_type": "markdown",
      "id": "16bf8a5c",
      "metadata": {
        "id": "16bf8a5c"
      },
      "source": [
        "1. **Concatenation**: You can concatenate two or more tuples using the `+` operator.\n"
      ]
    },
    {
      "cell_type": "code",
      "execution_count": null,
      "id": "3d3ffe96",
      "metadata": {
        "id": "3d3ffe96"
      },
      "outputs": [],
      "source": [
        "tup1 = (1,2,3) # immutable\n",
        "\n",
        "tup2 = (4,5,6,7)"
      ]
    },
    {
      "cell_type": "code",
      "source": [
        "tup2[3]"
      ],
      "metadata": {
        "colab": {
          "base_uri": "https://localhost:8080/"
        },
        "id": "NBoXmyGnh2SG",
        "outputId": "0aa07169-ff6e-4468-897c-eaadc6b741cc"
      },
      "id": "NBoXmyGnh2SG",
      "execution_count": null,
      "outputs": [
        {
          "output_type": "execute_result",
          "data": {
            "text/plain": [
              "7"
            ]
          },
          "metadata": {},
          "execution_count": 41
        }
      ]
    },
    {
      "cell_type": "code",
      "execution_count": null,
      "id": "efdcff88",
      "metadata": {
        "colab": {
          "base_uri": "https://localhost:8080/"
        },
        "id": "efdcff88",
        "outputId": "5e3bf897-9788-4017-8517-7d19bc2e3fc9"
      },
      "outputs": [
        {
          "output_type": "execute_result",
          "data": {
            "text/plain": [
              "(1, 2, 3, 4, 5, 6, 7)"
            ]
          },
          "metadata": {},
          "execution_count": 37
        }
      ],
      "source": [
        "tup1+tup2"
      ]
    },
    {
      "cell_type": "markdown",
      "id": "717c7f8c",
      "metadata": {
        "id": "717c7f8c"
      },
      "source": [
        "2. **Repetition**: You can repeat a tuple multiple times using the `*` operator.\n"
      ]
    },
    {
      "cell_type": "code",
      "execution_count": null,
      "id": "3645389d",
      "metadata": {
        "id": "3645389d"
      },
      "outputs": [],
      "source": [
        "tup1 = (1,2,3)"
      ]
    },
    {
      "cell_type": "code",
      "source": [
        "lst = [1,2,3]\n",
        "lst*5"
      ],
      "metadata": {
        "colab": {
          "base_uri": "https://localhost:8080/"
        },
        "id": "pJR0WJdKiJOH",
        "outputId": "9ec39a76-8d56-422b-b52c-674e68f4e3fc"
      },
      "id": "pJR0WJdKiJOH",
      "execution_count": null,
      "outputs": [
        {
          "output_type": "execute_result",
          "data": {
            "text/plain": [
              "[1, 2, 3, 1, 2, 3, 1, 2, 3, 1, 2, 3, 1, 2, 3]"
            ]
          },
          "metadata": {},
          "execution_count": 42
        }
      ]
    },
    {
      "cell_type": "code",
      "execution_count": null,
      "id": "cff82545",
      "metadata": {
        "colab": {
          "base_uri": "https://localhost:8080/"
        },
        "id": "cff82545",
        "outputId": "49417b4f-6174-4904-80e6-c3d991304639"
      },
      "outputs": [
        {
          "output_type": "execute_result",
          "data": {
            "text/plain": [
              "(1, 2, 3, 1, 2, 3, 1, 2, 3, 1, 2, 3, 1, 2, 3)"
            ]
          },
          "metadata": {},
          "execution_count": 17
        }
      ],
      "source": [
        "tup1*5"
      ]
    },
    {
      "cell_type": "markdown",
      "id": "9a68fd06",
      "metadata": {
        "id": "9a68fd06"
      },
      "source": [
        "### Operations on Set"
      ]
    },
    {
      "cell_type": "code",
      "execution_count": null,
      "id": "1af01ea8",
      "metadata": {
        "id": "1af01ea8"
      },
      "outputs": [],
      "source": [
        "# Creating sets\n",
        "set1 = {1, 2, 3, 4, 5}\n",
        "set2 = {4, 5, 6, 7, 8}"
      ]
    },
    {
      "cell_type": "code",
      "execution_count": null,
      "id": "c0448cb5",
      "metadata": {
        "colab": {
          "base_uri": "https://localhost:8080/"
        },
        "id": "c0448cb5",
        "outputId": "5c584174-3125-4cb3-80e5-e09b9cb3818e"
      },
      "outputs": [
        {
          "output_type": "stream",
          "name": "stdout",
          "text": [
            "After adding element to set1: {1, 2, 3, 4, 5, 6}\n"
          ]
        }
      ],
      "source": [
        "# Adding elements\n",
        "set1.add(6)\n",
        "print(\"After adding element to set1:\", set1)"
      ]
    },
    {
      "cell_type": "code",
      "source": [
        "set2.add(9)\n",
        "set2"
      ],
      "metadata": {
        "colab": {
          "base_uri": "https://localhost:8080/"
        },
        "id": "tg5NW_VuiqnU",
        "outputId": "8028c99f-6f52-419d-c2f1-6612f20110d2"
      },
      "id": "tg5NW_VuiqnU",
      "execution_count": null,
      "outputs": [
        {
          "output_type": "execute_result",
          "data": {
            "text/plain": [
              "{4, 5, 6, 7, 8, 9}"
            ]
          },
          "metadata": {},
          "execution_count": 47
        }
      ]
    },
    {
      "cell_type": "code",
      "execution_count": null,
      "id": "437239b0",
      "metadata": {
        "colab": {
          "base_uri": "https://localhost:8080/"
        },
        "id": "437239b0",
        "outputId": "2ea1a305-b7a8-4b72-ad07-4429013d19b0"
      },
      "outputs": [
        {
          "output_type": "stream",
          "name": "stdout",
          "text": [
            "After updating set2: {4, 5, 6, 7, 8, 9, 10}\n"
          ]
        }
      ],
      "source": [
        "# Updating elements\n",
        "set2.update({9, 10})\n",
        "print(\"After updating set2:\", set2)"
      ]
    },
    {
      "cell_type": "code",
      "execution_count": null,
      "id": "5ab3bc60",
      "metadata": {
        "colab": {
          "base_uri": "https://localhost:8080/"
        },
        "id": "5ab3bc60",
        "outputId": "df3ac637-0740-44c3-f003-a244b83a10aa"
      },
      "outputs": [
        {
          "output_type": "stream",
          "name": "stdout",
          "text": [
            "After removing element from set1: {1, 2, 4, 5, 6}\n"
          ]
        }
      ],
      "source": [
        "# Removing elements\n",
        "set1.remove(3)\n",
        "print(\"After removing element from set1:\", set1)"
      ]
    },
    {
      "cell_type": "code",
      "execution_count": null,
      "id": "00701602",
      "metadata": {
        "colab": {
          "base_uri": "https://localhost:8080/"
        },
        "id": "00701602",
        "outputId": "573ab494-c326-4e17-a6a7-e0d086abbff9"
      },
      "outputs": [
        {
          "output_type": "stream",
          "name": "stdout",
          "text": [
            "Popped element from set1: 1\n"
          ]
        }
      ],
      "source": [
        "popped_element = set1.pop()\n",
        "print(\"Popped element from set1:\", popped_element)"
      ]
    },
    {
      "cell_type": "code",
      "execution_count": null,
      "id": "11512d56",
      "metadata": {
        "colab": {
          "base_uri": "https://localhost:8080/"
        },
        "id": "11512d56",
        "outputId": "f12b3fd8-f18f-4cf3-fa5f-ce80bec4a618"
      },
      "outputs": [
        {
          "output_type": "stream",
          "name": "stdout",
          "text": [
            "Union of set1 and set2: {1, 2, 3, 4, 5, 6, 7, 8}\n"
          ]
        }
      ],
      "source": [
        "# Set Operations\n",
        "#Union\n",
        "set1 = {1, 2, 3, 4, 5}\n",
        "set2 = {4, 5, 6, 7, 8}\n",
        "union_set = set1.union(set2)\n",
        "print(\"Union of set1 and set2:\", union_set)"
      ]
    },
    {
      "cell_type": "code",
      "execution_count": null,
      "id": "214af29e",
      "metadata": {
        "colab": {
          "base_uri": "https://localhost:8080/"
        },
        "id": "214af29e",
        "outputId": "16c3f816-cb49-4201-9449-b7a184ef1088"
      },
      "outputs": [
        {
          "output_type": "stream",
          "name": "stdout",
          "text": [
            "Intersection of set1 and set2: {4, 5}\n"
          ]
        }
      ],
      "source": [
        "#Intersection\n",
        "set1 = {1, 2, 3, 4, 5}\n",
        "set2 = {4, 5, 6, 7, 8}\n",
        "intersection_set = set1.intersection(set2)\n",
        "print(\"Intersection of set1 and set2:\", intersection_set)"
      ]
    },
    {
      "cell_type": "code",
      "execution_count": null,
      "id": "9be9264b",
      "metadata": {
        "colab": {
          "base_uri": "https://localhost:8080/"
        },
        "id": "9be9264b",
        "outputId": "d9220611-a8a3-4bca-fc7a-cb4880ad355c"
      },
      "outputs": [
        {
          "output_type": "stream",
          "name": "stdout",
          "text": [
            "Difference of set1 and set2: {1, 2, 3}\n"
          ]
        }
      ],
      "source": [
        "#Difference\n",
        "set1 = {1, 2, 3, 4, 5}\n",
        "set2 = {4, 5, 6, 7, 8}\n",
        "difference_set = set1.difference(set2)\n",
        "print(\"Difference of set1 and set2:\", difference_set)"
      ]
    },
    {
      "cell_type": "code",
      "execution_count": null,
      "id": "48633204",
      "metadata": {
        "colab": {
          "base_uri": "https://localhost:8080/"
        },
        "id": "48633204",
        "outputId": "be52a336-37e2-4fc5-b6b5-9651aa473743"
      },
      "outputs": [
        {
          "output_type": "stream",
          "name": "stdout",
          "text": [
            "Symmetric Difference of set1 and set2: {1, 2, 3, 6, 7, 8}\n"
          ]
        }
      ],
      "source": [
        "#Symmetric-difference\n",
        "set1 = {1, 2, 3, 4, 5}\n",
        "set2 = {4, 5, 6, 7, 8}\n",
        "symmetric_difference_set = set1.symmetric_difference(set2)\n",
        "print(\"Symmetric Difference of set1 and set2:\", symmetric_difference_set)"
      ]
    },
    {
      "cell_type": "code",
      "execution_count": null,
      "id": "327d7721",
      "metadata": {
        "colab": {
          "base_uri": "https://localhost:8080/"
        },
        "id": "327d7721",
        "outputId": "94baa6cc-039f-47c4-d389-6e42db34dbc6"
      },
      "outputs": [
        {
          "output_type": "stream",
          "name": "stdout",
          "text": [
            "Is set1 a subset of set2? False\n",
            "Is set2 a subset of set1? True\n"
          ]
        }
      ],
      "source": [
        "# Set Comparison\n",
        "\n",
        "set1 = {1,2,3,4,5}\n",
        "set2 = {2,3}\n",
        "\n",
        "\n",
        "print(\"Is set1 a subset of set2?\", set1.issubset(set2))\n",
        "print(\"Is set2 a subset of set1?\", set2.issubset(set1))"
      ]
    },
    {
      "cell_type": "code",
      "execution_count": null,
      "id": "f012116b",
      "metadata": {
        "colab": {
          "base_uri": "https://localhost:8080/"
        },
        "id": "f012116b",
        "outputId": "8f8bc8de-68ea-454b-819c-27a84a269226"
      },
      "outputs": [
        {
          "output_type": "stream",
          "name": "stdout",
          "text": [
            "Are set1 and set2 disjoint? False\n"
          ]
        }
      ],
      "source": [
        "set1 = {1,2,3}\n",
        "set2 = {1,6,7}\n",
        "\n",
        "print(\"Are set1 and set2 disjoint?\", set1.isdisjoint(set2))"
      ]
    },
    {
      "cell_type": "markdown",
      "id": "122bfc5d",
      "metadata": {
        "id": "122bfc5d"
      },
      "source": [
        "## 3. Control Flow Statements"
      ]
    },
    {
      "cell_type": "markdown",
      "id": "3ff3acd0",
      "metadata": {
        "id": "3ff3acd0"
      },
      "source": [
        "1. **if statement**: Used for conditional execution, where different code blocks are executed based on whether a condition is true or false."
      ]
    },
    {
      "cell_type": "code",
      "execution_count": null,
      "id": "f0fb87ba",
      "metadata": {
        "colab": {
          "base_uri": "https://localhost:8080/"
        },
        "id": "f0fb87ba",
        "outputId": "9c727956-471b-428d-b65e-a95be7834a89"
      },
      "outputs": [
        {
          "output_type": "stream",
          "name": "stdout",
          "text": [
            "I am giving 2 chocolates to my friends\n"
          ]
        }
      ],
      "source": [
        "chocolates = 9\n",
        "\n",
        "if chocolates >= 10:\n",
        "  print(\"X\")\n",
        "  print(\"I am giving 5 chocolates to my friends\")\n",
        "else:\n",
        "  print(\"I am giving 2 chocolates to my friends\")"
      ]
    },
    {
      "cell_type": "markdown",
      "source": [
        "#### Question 1: Write a program in python to take input of a number and print if its even or odd."
      ],
      "metadata": {
        "id": "pbhBX5k_lpDn"
      },
      "id": "pbhBX5k_lpDn"
    },
    {
      "cell_type": "code",
      "source": [
        "x = int(input(\"Enter a number: \"))\n",
        "\n",
        "if x%2 == 0:\n",
        "  print(\"Number is Even\")\n",
        "else:\n",
        "  print(\"Number is Odd\")"
      ],
      "metadata": {
        "colab": {
          "base_uri": "https://localhost:8080/"
        },
        "id": "sMvw4atTvPqr",
        "outputId": "e0e93f0f-e923-413b-b1a7-950332758693"
      },
      "id": "sMvw4atTvPqr",
      "execution_count": null,
      "outputs": [
        {
          "output_type": "stream",
          "name": "stdout",
          "text": [
            "Enter a number: 33\n",
            "Number is Odd\n"
          ]
        }
      ]
    },
    {
      "cell_type": "markdown",
      "source": [
        "#### Question 2: Write a program in python to take two numbers as input and also the operation ('add', 'subtract', 'multiply', 'divide', 'remainder'). And finally create a calculator using python.\n",
        "\n",
        "\n",
        "- For example:\n",
        "- Input: a = 2, b = 3, operation = \"add\"\n",
        "- Output: 5"
      ],
      "metadata": {
        "id": "d1hKqXHnwS3U"
      },
      "id": "d1hKqXHnwS3U"
    },
    {
      "cell_type": "code",
      "source": [
        "a = int(input(\"Enter the first number: \"))\n",
        "b = int(input(\"Enter the second number: \"))\n",
        "ops = input(\"Enter the operation: \")\n",
        "\n",
        "ops = ops.lower()\n",
        "\n",
        "if ops == \"add\":\n",
        "  print(a+b)\n",
        "elif ops == \"subtract\":\n",
        "  print(a-b)\n",
        "elif ops == \"multiply\":\n",
        "  print(a*b)\n",
        "elif ops == \"divide\":\n",
        "  if b == 0:\n",
        "    print(\"Cannot divide by zero\")\n",
        "  else:\n",
        "    print(a/b)\n",
        "elif ops == \"remainder\":\n",
        "  print(a%b)\n",
        "else:\n",
        "  print(\"Invalid operation\")"
      ],
      "metadata": {
        "colab": {
          "base_uri": "https://localhost:8080/"
        },
        "id": "VWby34_pwvLU",
        "outputId": "5c3fe9be-ccae-4d7c-a501-4901d20e9808"
      },
      "id": "VWby34_pwvLU",
      "execution_count": null,
      "outputs": [
        {
          "output_type": "stream",
          "name": "stdout",
          "text": [
            "Enter the first number: 2\n",
            "Enter the second number: 3\n",
            "Enter the operation: Add\n",
            "5\n"
          ]
        }
      ]
    },
    {
      "cell_type": "markdown",
      "id": "f9df2bf4",
      "metadata": {
        "id": "f9df2bf4"
      },
      "source": [
        "2. **for loop**: Used for iterating over a sequence (such as a list, tuple, or string) or other iterable objects."
      ]
    },
    {
      "cell_type": "code",
      "execution_count": null,
      "id": "b2096456",
      "metadata": {
        "colab": {
          "base_uri": "https://localhost:8080/"
        },
        "id": "b2096456",
        "outputId": "32d74f8a-1dbe-4a47-8fd5-959fbf60dad8"
      },
      "outputs": [
        {
          "output_type": "stream",
          "name": "stdout",
          "text": [
            "1 2 3 4 5 "
          ]
        }
      ],
      "source": [
        "# Example of for loop\n",
        "for i in range(1, 6):\n",
        "    print(i, end=\" \")"
      ]
    },
    {
      "cell_type": "code",
      "source": [
        "my_list = [2,3,4,10]\n",
        "\n",
        "for i in my_list:\n",
        "  print(i)"
      ],
      "metadata": {
        "colab": {
          "base_uri": "https://localhost:8080/"
        },
        "id": "o8HnKBPI6CEI",
        "outputId": "91b56a17-ed7e-4de6-c582-e9dd64c09be7"
      },
      "id": "o8HnKBPI6CEI",
      "execution_count": null,
      "outputs": [
        {
          "output_type": "stream",
          "name": "stdout",
          "text": [
            "2\n",
            "3\n",
            "4\n",
            "10\n"
          ]
        }
      ]
    },
    {
      "cell_type": "code",
      "source": [],
      "metadata": {
        "id": "teSKB8DqpeHL"
      },
      "id": "teSKB8DqpeHL",
      "execution_count": null,
      "outputs": []
    },
    {
      "cell_type": "code",
      "source": [],
      "metadata": {
        "id": "WalkU2EP5trO"
      },
      "id": "WalkU2EP5trO",
      "execution_count": null,
      "outputs": []
    },
    {
      "cell_type": "markdown",
      "id": "2686da8d",
      "metadata": {
        "id": "2686da8d"
      },
      "source": [
        "3. **while loop**: Used for executing a block of code repeatedly as long as a condition is true."
      ]
    },
    {
      "cell_type": "code",
      "execution_count": null,
      "id": "de258d17",
      "metadata": {
        "colab": {
          "base_uri": "https://localhost:8080/"
        },
        "id": "de258d17",
        "outputId": "432bf4db-a427-46c3-fbb5-767a1eb44057"
      },
      "outputs": [
        {
          "output_type": "stream",
          "name": "stdout",
          "text": [
            "0\n",
            "1\n",
            "2\n",
            "3\n",
            "4\n"
          ]
        }
      ],
      "source": [
        "# Example of while loop\n",
        "count = 0\n",
        "while count < 5:\n",
        "    print(count)  # Prints numbers 0 to 4 separated by space\n",
        "    count = count + 1\n",
        "\n"
      ]
    },
    {
      "cell_type": "markdown",
      "id": "ba4c66a2",
      "metadata": {
        "id": "ba4c66a2"
      },
      "source": [
        "4. **continue statement**: Used inside loops to skip the rest of the code inside the loop for the current iteration and proceed to the next iteration."
      ]
    },
    {
      "cell_type": "code",
      "execution_count": null,
      "id": "06416af4",
      "metadata": {
        "colab": {
          "base_uri": "https://localhost:8080/"
        },
        "id": "06416af4",
        "outputId": "7fc827e0-80de-4f86-8d6e-69f1994bb40e"
      },
      "outputs": [
        {
          "output_type": "stream",
          "name": "stdout",
          "text": [
            "Inside Loop\n",
            "1\n",
            "Before Continue\n",
            "Inside Loop\n",
            "3\n",
            "Before Continue\n",
            "Inside Loop\n",
            "5\n",
            "Before Continue\n",
            "Inside Loop\n",
            "7\n",
            "Before Continue\n",
            "Inside Loop\n",
            "9\n",
            "Before Continue\n"
          ]
        }
      ],
      "source": [
        "# Example of continue statement\n",
        "for i in range(1, 11):\n",
        "    if i % 2 == 0:\n",
        "        print(\"Before Continue\")\n",
        "        continue  # Skips current iteration\n",
        "        print(\"After Continue\")\n",
        "    print(\"Inside Loop\")\n",
        "    print(i)  # Prints odd numbers between 1 to 10\n",
        "\n"
      ]
    },
    {
      "cell_type": "code",
      "source": [
        "# prompt: Write code using continue to print odd numbers\n",
        "\n",
        "# Using continue to print odd numbers\n",
        "for i in range(1, 11):\n",
        "    if i % 2 == 0:\n",
        "        continue\n",
        "    print(i, end=\" \")"
      ],
      "metadata": {
        "id": "EVyNYddb_0kd"
      },
      "id": "EVyNYddb_0kd",
      "execution_count": null,
      "outputs": []
    },
    {
      "cell_type": "markdown",
      "id": "63044f5a",
      "metadata": {
        "id": "63044f5a"
      },
      "source": [
        "5. **break statement**: Used to exit a loop prematurely based on certain conditions."
      ]
    },
    {
      "cell_type": "code",
      "execution_count": null,
      "id": "d86ede23",
      "metadata": {
        "colab": {
          "base_uri": "https://localhost:8080/"
        },
        "id": "d86ede23",
        "outputId": "836368b2-6b0b-4821-a4c4-b910ff0aed86"
      },
      "outputs": [
        {
          "output_type": "stream",
          "name": "stdout",
          "text": [
            "1 2 3 4 5 Before break\n",
            "Outside Loop\n"
          ]
        }
      ],
      "source": [
        "# Example of break statement\n",
        "for i in range(1, 11):\n",
        "    if i > 5:\n",
        "        print(\"Before break\")\n",
        "        break                 # Stops the loop when i becomes greater than 5\n",
        "        print(\"After break\")  # will never get printed as its after break statement\n",
        "    print(i, end=\" \")  # Prints numbers 1 to 5 separated by space\n",
        "\n",
        "print(\"Outside Loop\")"
      ]
    },
    {
      "cell_type": "markdown",
      "id": "9cc8e093",
      "metadata": {
        "id": "9cc8e093"
      },
      "source": [
        "6. **pass statement**: Used when a statement is syntactically required but you want to do nothing or placeholder for future code."
      ]
    },
    {
      "cell_type": "code",
      "execution_count": null,
      "id": "a42ac730",
      "metadata": {
        "id": "a42ac730",
        "colab": {
          "base_uri": "https://localhost:8080/"
        },
        "outputId": "b5d631ae-f32b-4212-89b7-f012f5c53d2f"
      },
      "outputs": [
        {
          "output_type": "stream",
          "name": "stdout",
          "text": [
            "x is greater than or equal to 10\n"
          ]
        }
      ],
      "source": [
        "# Example of pass statement\n",
        "x = 11\n",
        "if x < 10:\n",
        "    pass  # No action is taken if x is less than 10\n",
        "else:\n",
        "    print(\"x is greater than or equal to 10\")"
      ]
    },
    {
      "cell_type": "code",
      "execution_count": null,
      "id": "e836b783",
      "metadata": {
        "id": "e836b783"
      },
      "outputs": [],
      "source": [
        "for i in range(5):\n",
        "  pass"
      ]
    },
    {
      "cell_type": "markdown",
      "id": "76ce408d",
      "metadata": {
        "id": "76ce408d"
      },
      "source": [
        "### Frequently asked interview questions"
      ]
    },
    {
      "cell_type": "markdown",
      "id": "27865f8f",
      "metadata": {
        "id": "27865f8f"
      },
      "source": [
        "1. Write a Python function `print_even(x,y)` to print all the even numbers between x and y."
      ]
    },
    {
      "cell_type": "markdown",
      "id": "48fd5a71",
      "metadata": {
        "id": "48fd5a71"
      },
      "source": [
        "2. Write a Python function `print_prime(x,y)` to print all the prime numbers between x and y."
      ]
    },
    {
      "cell_type": "code",
      "source": [
        "def print_even(x,y):\n",
        "  for item in range(x,y+1):\n",
        "    if item%2 == 0:\n",
        "      print(item, end = \" \")\n",
        "\n",
        "print(print_even(10,30))"
      ],
      "metadata": {
        "colab": {
          "base_uri": "https://localhost:8080/"
        },
        "id": "-sNVZJk_lN7u",
        "outputId": "a15bd45a-10d3-4f53-fccd-a379756e02e8"
      },
      "id": "-sNVZJk_lN7u",
      "execution_count": null,
      "outputs": [
        {
          "output_type": "stream",
          "name": "stdout",
          "text": [
            "10 12 14 16 18 20 22 24 26 28 30 None\n"
          ]
        }
      ]
    },
    {
      "cell_type": "markdown",
      "id": "4fd2fa8e",
      "metadata": {
        "id": "4fd2fa8e"
      },
      "source": [
        "## 4. Functions"
      ]
    },
    {
      "cell_type": "markdown",
      "id": "2a31da44",
      "metadata": {
        "id": "2a31da44"
      },
      "source": [
        "### User defined Function"
      ]
    },
    {
      "cell_type": "markdown",
      "id": "00731e77",
      "metadata": {
        "id": "00731e77"
      },
      "source": [
        "\n",
        "\n",
        "- User-defined functions in Python are created using the `def` keyword followed by the function name and parameters, if any.\n",
        "- Within the function body, you define the operations to be performed.\n",
        "- When the function is called, arguments are passed to it, and the function executes the defined operations using these arguments.\n",
        "- It can return a value using the `return` statement.\n",
        "- Functions allow for modularization of code, making it reusable and easier to maintain. They enhance code readability and organization by encapsulating specific tasks into named blocks of code.\n",
        "\n",
        "**Example:**\n",
        "\n",
        "```python\n",
        "# Example of a user-defined function\n",
        "def add_numbers(x, y):\n",
        "    \"\"\"Function to add two numbers.\"\"\"\n",
        "    return x + y\n",
        "\n",
        "# Calling the function\n",
        "result = add_numbers(3, 5)\n",
        "print(\"Result:\", result)  # Output: 8\n",
        "```\n",
        "\n",
        "In this example, `add_numbers()` is a user-defined function that takes two arguments `x` and `y`, adds them, and returns the result. When called with arguments `3` and `5`, it returns `8`, which is then printed."
      ]
    },
    {
      "cell_type": "code",
      "source": [],
      "metadata": {
        "id": "bcAY3fCD5S1E"
      },
      "id": "bcAY3fCD5S1E",
      "execution_count": null,
      "outputs": []
    },
    {
      "cell_type": "code",
      "execution_count": null,
      "id": "aea15f11",
      "metadata": {
        "id": "aea15f11"
      },
      "outputs": [],
      "source": []
    },
    {
      "cell_type": "code",
      "execution_count": null,
      "id": "991b4922",
      "metadata": {
        "id": "991b4922"
      },
      "outputs": [],
      "source": []
    },
    {
      "cell_type": "markdown",
      "id": "87a4e638",
      "metadata": {
        "id": "87a4e638"
      },
      "source": [
        "### Map function"
      ]
    },
    {
      "cell_type": "markdown",
      "id": "1a0f3ae9",
      "metadata": {
        "id": "1a0f3ae9"
      },
      "source": [
        "\n",
        "\n",
        "- The `map` function in Python applies a given function to each item of an iterable (such as a list, tuple, or set) and returns a new iterator that yields the results.\n",
        "- It takes two arguments: the function to apply and the iterable to apply it to.\n",
        "- The function provided to `map` can be a built-in function, a lambda function, or a user-defined function.\n",
        "- `map` is commonly used to apply a transformation or operation to all elements of a collection without the need for explicit loops.\n",
        "- It offers a more concise and efficient alternative to using a `for` loop with a list comprehension.\n",
        "\n",
        "**Example:**\n",
        "\n",
        "```python\n",
        "# Example of using map function\n",
        "def square(x):\n",
        "    \"\"\"Function to square a number.\"\"\"\n",
        "    return x ** 2\n",
        "\n",
        "# Applying square function to each element of the list using map\n",
        "numbers = [1, 2, 3, 4, 5]\n",
        "squared_numbers = map(square, numbers)\n",
        "\n",
        "# Converting the map object to a list\n",
        "squared_numbers_list = list(squared_numbers)\n",
        "print(\"Squared Numbers:\", squared_numbers_list)  # Output: [1, 4, 9, 16, 25]\n",
        "```\n",
        "\n",
        "In this example, the `map` function is used to apply the `square` function to each element of the `numbers` list, resulting in a new list containing the squared values."
      ]
    },
    {
      "cell_type": "code",
      "execution_count": null,
      "id": "c7cebb12",
      "metadata": {
        "id": "c7cebb12",
        "colab": {
          "base_uri": "https://localhost:8080/"
        },
        "outputId": "4125f728-f54f-4126-bf0f-fa2081f16d0e"
      },
      "outputs": [
        {
          "output_type": "execute_result",
          "data": {
            "text/plain": [
              "[1, 8, 27, 64, 125]"
            ]
          },
          "metadata": {},
          "execution_count": 13
        }
      ],
      "source": [
        "# Convert this list of numbers to list of its cubes\n",
        "# Input: numbers = [1, 2, 3, 4, 5]\n",
        "# Output: [1, 8, 27, 64, 125]\n",
        "\n",
        "numbers = [1, 2, 3, 4, 5]\n",
        "cubic_numbers = list(map(lambda x:x**3, numbers))\n",
        "cubic_numbers"
      ]
    },
    {
      "cell_type": "markdown",
      "id": "9650c8e5",
      "metadata": {
        "id": "9650c8e5"
      },
      "source": [
        "### Lambda Function"
      ]
    },
    {
      "cell_type": "markdown",
      "id": "ef32cd05",
      "metadata": {
        "id": "ef32cd05"
      },
      "source": [
        "\n",
        "\n",
        "- Lambda functions in Python are created using the `lambda` keyword, followed by the parameters and a colon, and then the expression to be evaluated.\n",
        "- Lambda functions are anonymous functions, meaning they do not have a name.\n",
        "- They are typically used for simple, one-line operations and are often passed as arguments to higher-order functions.\n",
        "- Lambda functions can take any number of arguments, but they can only have one expression.\n",
        "- They are useful for writing concise code and can be used in situations where defining a named function is unnecessary.\n",
        "\n",
        "**Example:**\n",
        "\n",
        "```python\n",
        "# Example of a lambda function\n",
        "add_numbers = lambda x, y: x + y\n",
        "\n",
        "# Calling the lambda function\n",
        "result = add_numbers(3, 5)\n",
        "print(\"Result:\", result)  # Output: 8\n",
        "```\n",
        "\n",
        "In this example, `add_numbers` is a lambda function that takes two arguments `x` and `y`, adds them, and returns the result. When called with arguments `3` and `5`, it returns `8`, which is then printed."
      ]
    },
    {
      "cell_type": "code",
      "execution_count": null,
      "id": "a87530d6",
      "metadata": {
        "id": "a87530d6"
      },
      "outputs": [],
      "source": []
    },
    {
      "cell_type": "markdown",
      "id": "f1b6a658",
      "metadata": {
        "id": "f1b6a658"
      },
      "source": [
        "### Filter function"
      ]
    },
    {
      "cell_type": "markdown",
      "id": "772319c0",
      "metadata": {
        "id": "772319c0"
      },
      "source": [
        "Sure, here's an explanation of the `filter()` function in Python:\n",
        "\n",
        "- The `filter()` function in Python is used to filter elements from an iterable (such as a list) based on a given function.\n",
        "- It takes two arguments: the function that determines the filtering criteria and the iterable to be filtered.\n",
        "- The function passed to `filter()` should return `True` for elements that should be included in the filtered result and `False` for elements that should be excluded.\n",
        "- The `filter()` function returns an iterator containing only the elements for which the function returns `True`.\n",
        "- It is often used in conjunction with lambda functions or custom-defined functions to apply specific filtering criteria to iterables.\n",
        "\n",
        "**Example:**\n",
        "\n",
        "```python\n",
        "# Example of filter() function\n",
        "# Function to filter even numbers\n",
        "def is_even(num):\n",
        "    \"\"\"Function to check if a number is even.\"\"\"\n",
        "    return num % 2 == 0\n",
        "\n",
        "# List of numbers\n",
        "numbers = [1, 2, 3, 4, 5, 6, 7, 8, 9, 10]\n",
        "\n",
        "# Filter even numbers using filter() and is_even() function\n",
        "even_numbers = filter(is_even, numbers)\n",
        "\n",
        "# Convert the result to a list\n",
        "even_numbers_list = list(even_numbers)\n",
        "\n",
        "print(\"Even numbers:\", even_numbers_list)  # Output: [2, 4, 6, 8, 10]\n",
        "```\n",
        "\n",
        "In this example, `filter()` is used to filter even numbers from the `numbers` list using the `is_even()` function. The resulting iterator is converted to a list, which contains only the even numbers `[2, 4, 6, 8, 10]`."
      ]
    },
    {
      "cell_type": "code",
      "execution_count": null,
      "id": "ae6fb00a",
      "metadata": {
        "id": "ae6fb00a"
      },
      "outputs": [],
      "source": []
    },
    {
      "cell_type": "markdown",
      "id": "a9373294",
      "metadata": {
        "id": "a9373294"
      },
      "source": [
        "### Reduce Function"
      ]
    },
    {
      "cell_type": "markdown",
      "id": "a2e9fe99",
      "metadata": {
        "id": "a2e9fe99"
      },
      "source": [
        "Sure, here's an explanation of the `reduce()` function in Python:\n",
        "\n",
        "- The `reduce()` function is part of the `functools` module in Python and is used to apply a function to a sequence of elements.\n",
        "- It repeatedly applies the specified function to the elements of the sequence, reducing them to a single value.\n",
        "- The function passed to `reduce()` should accept two arguments and return a single value.\n",
        "- It takes three arguments: the function to apply, the sequence of elements, and an optional initializer value.\n",
        "- If an initializer value is provided, it is used as the initial value for the computation; otherwise, the first two elements of the sequence are used.\n",
        "- The result of the reduction is the final accumulated value.\n",
        "\n",
        "**Example:**\n",
        "\n",
        "```python\n",
        "from functools import reduce\n",
        "\n",
        "# Example of reduce function to find the sum of elements in a list\n",
        "numbers = [1, 2, 3, 4, 5]\n",
        "sum_of_numbers = reduce(lambda x, y: x + y, numbers)\n",
        "print(\"Sum of numbers:\", sum_of_numbers)  # Output: 15\n",
        "```\n",
        "\n",
        "In this example, `reduce()` is used to find the sum of elements in the `numbers` list. The `lambda` function passed to `reduce()` takes two arguments `x` and `y` and returns their sum. The `reduce()` function iteratively applies this function to the elements of the list, resulting in the sum of all elements."
      ]
    },
    {
      "cell_type": "code",
      "execution_count": null,
      "id": "4f2101e1",
      "metadata": {
        "id": "4f2101e1",
        "colab": {
          "base_uri": "https://localhost:8080/"
        },
        "outputId": "057c11c2-0c0f-45c9-f813-ecc818a22763"
      },
      "outputs": [
        {
          "output_type": "stream",
          "name": "stdout",
          "text": [
            "Sum of numbers: 15\n"
          ]
        }
      ],
      "source": [
        "from functools import reduce\n",
        "\n",
        "# Example of reduce function to find the sum of elements in a list\n",
        "numbers = [1, 2, 3, 4, 5]\n",
        "sum_of_numbers = reduce(lambda x, y: x + y, numbers)\n",
        "print(\"Sum of numbers:\", sum_of_numbers)  # Output: 15"
      ]
    },
    {
      "cell_type": "code",
      "execution_count": null,
      "id": "e79de196",
      "metadata": {
        "id": "e79de196"
      },
      "outputs": [],
      "source": []
    },
    {
      "cell_type": "markdown",
      "id": "ca87371e",
      "metadata": {
        "id": "ca87371e"
      },
      "source": [
        "### Accumulate Function"
      ]
    },
    {
      "cell_type": "markdown",
      "id": "cdd52f40",
      "metadata": {
        "id": "cdd52f40"
      },
      "source": [
        "Sure, here's the explanation in bullet points with an example:\n",
        "\n",
        "- The `itertools` module in Python provides an `accumulate()` function that generates accumulated sums or accumulated results of other binary functions.\n",
        "- It takes an iterable (such as a list or tuple) and an optional binary function as arguments.\n",
        "- By default, it performs addition if no function is provided.\n",
        "- The function accumulates the results from the iterable, returning an iterator of accumulated values.\n",
        "- It's particularly useful for calculating cumulative sums or other accumulated results efficiently.\n",
        "- The `accumulate()` function can be imported from the `itertools` module: `from itertools import accumulate`.\n",
        "\n",
        "**Example:**\n",
        "\n",
        "```python\n",
        "# Example of the accumulate function\n",
        "from itertools import accumulate\n",
        "\n",
        "# Calculate cumulative sum of a list\n",
        "numbers = [1, 2, 3, 4, 5]\n",
        "cumulative_sum = accumulate(numbers)\n",
        "print(\"Cumulative Sum:\", list(cumulative_sum))  # Output: [1, 3, 6, 10, 15]\n",
        "\n",
        "# Calculate cumulative product of a list\n",
        "cumulative_product = accumulate(numbers, lambda x, y: x * y)\n",
        "print(\"Cumulative Product:\", list(cumulative_product))  # Output: [1, 2, 6, 24, 120]\n",
        "```\n",
        "\n",
        "In this example, `accumulate()` is used to calculate both the cumulative sum and cumulative product of a list of numbers. The first call to `accumulate()` calculates the cumulative sum, and the second call calculates the cumulative product using a lambda function. The results are then printed."
      ]
    },
    {
      "cell_type": "markdown",
      "id": "51c9c46e",
      "metadata": {
        "id": "51c9c46e"
      },
      "source": [
        "### Frequently asked interview questions"
      ]
    },
    {
      "cell_type": "markdown",
      "id": "29b6fa40",
      "metadata": {
        "id": "29b6fa40"
      },
      "source": [
        "#### Q. Write a Python program that uses map() to apply a lambda function that doubles each number in a list.\n",
        "\n",
        "#### For example, if the input list is [1, 2, 3, 4, 5], the program should output [1,4,6,8,10]."
      ]
    },
    {
      "cell_type": "markdown",
      "id": "00a64c2f",
      "metadata": {
        "id": "00a64c2f"
      },
      "source": [
        "#### Q. Use the filter() function to extract even numbers from a list of integers.\n",
        "\n",
        "#### For example, if the input list is [1, 2, 3, 4, 5], the program should output [2,4]."
      ]
    }
  ],
  "metadata": {
    "kernelspec": {
      "display_name": "Python 3 (ipykernel)",
      "language": "python",
      "name": "python3"
    },
    "language_info": {
      "codemirror_mode": {
        "name": "ipython",
        "version": 3
      },
      "file_extension": ".py",
      "mimetype": "text/x-python",
      "name": "python",
      "nbconvert_exporter": "python",
      "pygments_lexer": "ipython3",
      "version": "3.9.12"
    },
    "colab": {
      "provenance": [],
      "include_colab_link": true
    }
  },
  "nbformat": 4,
  "nbformat_minor": 5
}